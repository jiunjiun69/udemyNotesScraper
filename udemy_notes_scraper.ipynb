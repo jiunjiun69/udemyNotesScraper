{
 "cells": [
  {
   "cell_type": "code",
   "execution_count": 1,
   "id": "753eb2e3",
   "metadata": {},
   "outputs": [
    {
     "data": {
      "text/plain": [
       "['config.ini']"
      ]
     },
     "execution_count": 1,
     "metadata": {},
     "output_type": "execute_result"
    },
    {
     "data": {
      "text/plain": [
       "['config.ini']"
      ]
     },
     "execution_count": 1,
     "metadata": {},
     "output_type": "execute_result"
    }
   ],
   "source": [
    "import time\n",
    "import undetected_chromedriver as uc\n",
    "from selenium.webdriver.common.keys import Keys\n",
    "from selenium.webdriver.common.by import By\n",
    "from selenium.webdriver.support.ui import WebDriverWait\n",
    "from selenium.webdriver.support import expected_conditions as EC\n",
    "import configparser\n",
    "config = configparser.ConfigParser()\n",
    "config.read(\"config.ini\")"
   ]
  },
  {
   "cell_type": "code",
   "execution_count": 2,
   "id": "e38ab859",
   "metadata": {},
   "outputs": [],
   "source": [
    "# Udemy 登入資訊\n",
    "email = config.get(\"udemy\", \"email\")\n",
    "password = config.get(\"udemy\", \"password\")"
   ]
  },
  {
   "cell_type": "code",
   "execution_count": 3,
   "id": "f56126db",
   "metadata": {},
   "outputs": [],
   "source": [
    "# 抓取筆記的課程 URL\n",
    "course_url = config.get(\"udemy\", \"course_url\")"
   ]
  },
  {
   "cell_type": "code",
   "execution_count": 4,
   "id": "0a1c21b5",
   "metadata": {},
   "outputs": [],
   "source": [
    "# 建立瀏覽器實例\n",
    "options = uc.ChromeOptions()\n",
    "\n",
    "options.add_argument(\"--disable-blink-features\")\n",
    "options.add_argument(\"--disable-blink-features=AutomationControlled\")\n",
    "options.add_argument('--disable-gpu')\n",
    "options.add_argument('--no-sandbox')\n",
    "# options.add_argument('--disable-dev-shm-usage')\n",
    "# options.add_argument(\"--lang=zh-TW\")  # 繁體中文界面\n",
    "\n",
    "\n",
    "driver = uc.Chrome(executable_path='./chromedriver.exe', options=options)\n",
    "\n",
    "\n",
    "driver.execute_cdp_cmd('Page.addScriptToEvaluateOnNewDocument', {'source': \"\"\"\n",
    "    Object.defineProperty(Navigator.prototype, 'webdriver', {\n",
    "        set: undefined,\n",
    "        enumerable: true,\n",
    "        configurable: true,\n",
    "        get: new Proxy(\n",
    "            Object.getOwnPropertyDescriptor(Navigator.prototype, 'webdriver').get,\n",
    "            { apply: (target, thisArg, args) => {\n",
    "                // emulate getter call validation\n",
    "                Reflect.apply(target, thisArg, args);\n",
    "                return false;\n",
    "            }}\n",
    "        )\n",
    "    });\n",
    "\"\"\"})\n",
    "\n",
    "\n",
    "# 登入 Udemy\n",
    "driver.get(\"https://www.udemy.com/join/login-popup/\")"
   ]
  },
  {
   "cell_type": "code",
   "execution_count": 5,
   "id": "46746eb4",
   "metadata": {},
   "outputs": [
    {
     "name": "stdout",
     "output_type": "stream",
     "text": [
      "頁面載入成功\n",
      "頁面載入成功\n"
     ]
    }
   ],
   "source": [
    "# 前往課程頁面\n",
    "try:\n",
    "    WebDriverWait(driver, 10).until(EC.visibility_of_element_located((By.CSS_SELECTOR, \".ud-btn.ud-btn-large.ud-btn-brand.ud-heading-md.helpers--auth-submit-button--2K2dh\")))\n",
    "    print(\"頁面載入成功\")\n",
    "    \n",
    "    driver.find_element(By.NAME, \"email\").send_keys(email)\n",
    "    driver.find_element(By.NAME, \"password\").send_keys(password)\n",
    "except:\n",
    "    print(\"未能在指定時間內載入頁面\")"
   ]
  },
  {
   "cell_type": "code",
   "execution_count": 6,
   "id": "63128b4c",
   "metadata": {},
   "outputs": [],
   "source": [
    "# driver.find_element(By.NAME, \"submit\").click()\n",
    "driver.find_element(By.CSS_SELECTOR, \".ud-btn.ud-btn-large.ud-btn-brand.ud-heading-md.helpers--auth-submit-button--2K2dh\").click()"
   ]
  },
  {
   "cell_type": "code",
   "execution_count": 7,
   "id": "59fdf625",
   "metadata": {
    "scrolled": false
   },
   "outputs": [
    {
     "name": "stdout",
     "output_type": "stream",
     "text": [
      "登入成功\n",
      "登入成功\n"
     ]
    }
   ],
   "source": [
    "# 等待登入成功\n",
    "try:\n",
    "    WebDriverWait(driver, 10).until(EC.visibility_of_element_located((By.CSS_SELECTOR, \"span[class='ud-text-sm header--dropdown-button-text--2OxOV']\")))\n",
    "    print(\"登入成功\")\n",
    "except:\n",
    "    print(\"未能在指定時間內找到元素，但程式將繼續執行。\")"
   ]
  },
  {
   "cell_type": "code",
   "execution_count": 8,
   "id": "0fdb2d47",
   "metadata": {},
   "outputs": [
    {
     "name": "stdout",
     "output_type": "stream",
     "text": [
      "前往課程頁面成功\n",
      "前往課程頁面成功\n"
     ]
    }
   ],
   "source": [
    "# 前往課程頁面\n",
    "try:\n",
    "    time.sleep(3)\n",
    "    driver.get(course_url)\n",
    "    WebDriverWait(driver, 10).until(EC.visibility_of_element_located((By.CSS_SELECTOR, \"button#dropdown-trigger--3\")))\n",
    "    print(\"前往課程頁面成功\")\n",
    "except:\n",
    "    print(\"未能在指定時間內前往課程頁面\")"
   ]
  },
  {
   "cell_type": "code",
   "execution_count": 9,
   "id": "0130c579",
   "metadata": {},
   "outputs": [],
   "source": [
    "# 選擇所有講座\n",
    "time.sleep(3)\n",
    "\n",
    "lecture_dropdown_trigger = WebDriverWait(driver, 10).until(EC.element_to_be_clickable((By.CSS_SELECTOR, \"button#dropdown-trigger--3\")))\n",
    "lecture_dropdown_trigger.click()\n",
    "\n",
    "all_lectures_button = WebDriverWait(driver, 10).until(EC.element_to_be_clickable((By.CSS_SELECTOR, \"button[data-purpose='filter-by-all-lectures']\")))\n",
    "all_lectures_button.click()\n",
    "\n",
    "# 依最舊至最新排序\n",
    "sort_dropdown_trigger = WebDriverWait(driver, 10).until(EC.element_to_be_clickable((By.CSS_SELECTOR, \"button#dropdown-trigger--6\")))\n",
    "sort_dropdown_trigger.click()\n",
    "\n",
    "oldest_button = WebDriverWait(driver, 10).until(EC.element_to_be_clickable((By.CSS_SELECTOR, \"button[data-purpose='sort-by-oldest']\")))\n",
    "oldest_button.click()\n",
    "\n",
    "time.sleep(3)"
   ]
  },
  {
   "cell_type": "code",
   "execution_count": 10,
   "id": "22f1fe05",
   "metadata": {},
   "outputs": [
    {
     "name": "stdout",
     "output_type": "stream",
     "text": [
      "筆記輸出成功\n",
      "筆記輸出成功\n"
     ]
    }
   ],
   "source": [
    "try:\n",
    "    WebDriverWait(driver, 10).until(EC.presence_of_element_located((By.CSS_SELECTOR, \"div[data-purpose='bookmarks-container']\")))\n",
    "    \n",
    "    notes_container = driver.find_element(By.CSS_SELECTOR, \"div[data-purpose='bookmarks-container']\")\n",
    "    notes = notes_container.find_elements(By.CSS_SELECTOR, \"div.lecture-bookmark-v2--row--1JALI\")\n",
    "\n",
    "    with open(\"notes_output.txt\", \"w\", encoding=\"utf-8\") as output_file:\n",
    "        for note in notes:\n",
    "            section = note.find_element(By.CSS_SELECTOR, \"div.lecture-bookmark-v2--section--383LP\").text\n",
    "            title = note.find_element(By.CSS_SELECTOR, \"div.ud-text-sm\").text\n",
    "            content = note.find_element(By.CSS_SELECTOR, \"div[data-purpose='safely-set-inner-html:rich-text-viewer:html']\").text\n",
    "\n",
    "            output_file.write(f\"Section: {section}\\n\")\n",
    "            output_file.write(f\"Title: {title}\\n\")\n",
    "            output_file.write(f\"Content: {content}\\n\")\n",
    "            output_file.write(\"\\n---\\n\")\n",
    "\n",
    "finally:\n",
    "#     driver.quit()\n",
    "    print('筆記輸出成功')"
   ]
  },
  {
   "cell_type": "code",
   "execution_count": null,
   "id": "e0df8d84",
   "metadata": {},
   "outputs": [],
   "source": []
  }
 ],
 "metadata": {
  "kernelspec": {
   "display_name": "Python 3",
   "language": "python",
   "name": "python3"
  },
  "language_info": {
   "codemirror_mode": {
    "name": "ipython",
    "version": 3
   },
   "file_extension": ".py",
   "mimetype": "text/x-python",
   "name": "python",
   "nbconvert_exporter": "python",
   "pygments_lexer": "ipython3",
   "version": "3.7.9"
  }
 },
 "nbformat": 4,
 "nbformat_minor": 5
}
